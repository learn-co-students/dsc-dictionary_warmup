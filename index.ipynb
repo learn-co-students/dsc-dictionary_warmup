{
 "cells": [
  {
   "cell_type": "markdown",
   "metadata": {},
   "source": [
    "For today's warmup, you will be working with National Basketball Association data.  This data was acquired using the [nba_api package](https://github.com/swar/nba_api).  You will not have to use the API, rather, you will work accessing data stored in dictionaries created from the data returned from the API calls."
   ]
  },
  {
   "cell_type": "code",
   "execution_count": 49,
   "metadata": {},
   "outputs": [],
   "source": [
    "import pickle"
   ]
  },
  {
   "cell_type": "code",
   "execution_count": 50,
   "metadata": {},
   "outputs": [],
   "source": [
    "with open('data/nba_data.p', 'rb') as read_file:\n",
    "    team_dicts = pickle.load(read_file)"
   ]
  },
  {
   "cell_type": "markdown",
   "metadata": {},
   "source": [
    "The team_dicts object is a list, each element of which is a dictionary associated with a different NBA team's stats from the 2019-2020 season.  "
   ]
  },
  {
   "cell_type": "code",
   "execution_count": 51,
   "metadata": {},
   "outputs": [
    {
     "data": {
      "text/plain": [
       "list"
      ]
     },
     "execution_count": 51,
     "metadata": {},
     "output_type": "execute_result"
    }
   ],
   "source": [
    "# Type of the outer object\n",
    "type(team_dicts)"
   ]
  },
  {
   "cell_type": "code",
   "execution_count": 52,
   "metadata": {},
   "outputs": [
    {
     "data": {
      "text/plain": [
       "dict"
      ]
     },
     "execution_count": 52,
     "metadata": {},
     "output_type": "execute_result"
    }
   ],
   "source": [
    "# Type of the first inner object\n",
    "type(team_dicts[0])"
   ]
  },
  {
   "cell_type": "markdown",
   "metadata": {},
   "source": [
    "The first team listed, i.e. the team dictionary associated with index 0 of team_dicts, is the LA Lakers."
   ]
  },
  {
   "cell_type": "code",
   "execution_count": 53,
   "metadata": {},
   "outputs": [],
   "source": [
    "lakers = team_dicts[0]"
   ]
  },
  {
   "cell_type": "code",
   "execution_count": 54,
   "metadata": {},
   "outputs": [
    {
     "data": {
      "text/plain": [
       "{'LeagueID': '00',\n",
       " 'SeasonID': '22019',\n",
       " 'TeamID': 1610612747,\n",
       " 'TeamCity': 'Los Angeles',\n",
       " 'TeamName': 'Lakers',\n",
       " 'Conference': 'West',\n",
       " 'ConferenceRecord': '36-10',\n",
       " 'PlayoffRank': 1,\n",
       " 'ClinchIndicator': ' - w',\n",
       " 'Division': 'Pacific',\n",
       " 'DivisionRecord': '10-3 ',\n",
       " 'DivisionRank': 1,\n",
       " 'WINS': 52,\n",
       " 'LOSSES': 19,\n",
       " 'WinPCT': 0.732,\n",
       " 'LeagueRank': 0,\n",
       " 'Record': '52-19',\n",
       " 'HOME': '25-10',\n",
       " 'ROAD': '27-9 ',\n",
       " 'L10': '4-6  ',\n",
       " 'Last10Home': '7-3  ',\n",
       " 'Last10Road': '6-4  ',\n",
       " 'OT': '2-0  ',\n",
       " 'ThreePTSOrLess': '7-3  ',\n",
       " 'TenPTSOrMore': '25-11',\n",
       " 'LongHomeStreak': 6,\n",
       " 'strLongHomeStreak': 'W 6',\n",
       " 'LongRoadStreak': 14,\n",
       " 'strLongRoadStreak': 'W 14',\n",
       " 'LongWinStreak': 10,\n",
       " 'LongLossStreak': 4,\n",
       " 'CurrentHomeStreak': -1,\n",
       " 'strCurrentHomeStreak': 'L 1',\n",
       " 'CurrentRoadStreak': -2,\n",
       " 'strCurrentRoadStreak': 'L 2',\n",
       " 'CurrentStreak': -1,\n",
       " 'strCurrentStreak': 'L 1',\n",
       " 'ConferenceGamesBack': 0.0,\n",
       " 'DivisionGamesBack': 0.0,\n",
       " 'ClinchedConferenceTitle': 1,\n",
       " 'ClinchedDivisionTitle': 1,\n",
       " 'ClinchedPlayoffBirth': 1,\n",
       " 'EliminatedConference': 0,\n",
       " 'EliminatedDivision': 0,\n",
       " 'AheadAtHalf': '39-8 ',\n",
       " 'BehindAtHalf': '11-10',\n",
       " 'TiedAtHalf': '2-1  ',\n",
       " 'AheadAtThird': '43-0 ',\n",
       " 'BehindAtThird': '7-16 ',\n",
       " 'TiedAtThird': '2-3  ',\n",
       " 'Score100PTS': '48-14',\n",
       " 'OppScore100PTS': '36-19',\n",
       " 'OppOver500': '22-14',\n",
       " 'LeadInFGPCT': '42-4 ',\n",
       " 'LeadInReb': '38-7 ',\n",
       " 'FewerTurnovers': '33-5 ',\n",
       " 'PointsPG': 113.4,\n",
       " 'OppPointsPG': 107.6,\n",
       " 'DiffPointsPG': 5.8,\n",
       " 'vsEast': '16-9',\n",
       " 'vsAtlantic': '5-5',\n",
       " 'vsCentral': '4-3',\n",
       " 'vsSoutheast': '7-1',\n",
       " 'vsWest': '36-10',\n",
       " 'vsNorthwest': '12-3',\n",
       " 'vsPacific': '10-3',\n",
       " 'vsSouthwest': '14-4',\n",
       " 'Jan': '10-4',\n",
       " 'Feb': '9-2',\n",
       " 'Mar': '4-1',\n",
       " 'Apr': None,\n",
       " 'May': None,\n",
       " 'Jun': None,\n",
       " 'Jul': '1-0',\n",
       " 'Aug': '2-5',\n",
       " 'Sep': None,\n",
       " 'Oct': '3-1',\n",
       " 'Nov': '14-1',\n",
       " 'Dec': '9-5',\n",
       " 'PreAS': '41-12',\n",
       " 'PostAS': '11-7'}"
      ]
     },
     "execution_count": 54,
     "metadata": {},
     "output_type": "execute_result"
    }
   ],
   "source": [
    "# Take a look at the content of the lakers dictionary\n",
    "lakers"
   ]
  },
  {
   "cell_type": "markdown",
   "metadata": {},
   "source": [
    "Dictionaries are made of key:value pairs. You can see the keys of a dictionary using the .keys() method."
   ]
  },
  {
   "cell_type": "code",
   "execution_count": 55,
   "metadata": {},
   "outputs": [],
   "source": [
    "# List all the keys of the lakers dictionary\n",
    "# your code here"
   ]
  },
  {
   "cell_type": "code",
   "execution_count": 56,
   "metadata": {},
   "outputs": [
    {
     "data": {
      "text/plain": [
       "dict_keys(['LeagueID', 'SeasonID', 'TeamID', 'TeamCity', 'TeamName', 'Conference', 'ConferenceRecord', 'PlayoffRank', 'ClinchIndicator', 'Division', 'DivisionRecord', 'DivisionRank', 'WINS', 'LOSSES', 'WinPCT', 'LeagueRank', 'Record', 'HOME', 'ROAD', 'L10', 'Last10Home', 'Last10Road', 'OT', 'ThreePTSOrLess', 'TenPTSOrMore', 'LongHomeStreak', 'strLongHomeStreak', 'LongRoadStreak', 'strLongRoadStreak', 'LongWinStreak', 'LongLossStreak', 'CurrentHomeStreak', 'strCurrentHomeStreak', 'CurrentRoadStreak', 'strCurrentRoadStreak', 'CurrentStreak', 'strCurrentStreak', 'ConferenceGamesBack', 'DivisionGamesBack', 'ClinchedConferenceTitle', 'ClinchedDivisionTitle', 'ClinchedPlayoffBirth', 'EliminatedConference', 'EliminatedDivision', 'AheadAtHalf', 'BehindAtHalf', 'TiedAtHalf', 'AheadAtThird', 'BehindAtThird', 'TiedAtThird', 'Score100PTS', 'OppScore100PTS', 'OppOver500', 'LeadInFGPCT', 'LeadInReb', 'FewerTurnovers', 'PointsPG', 'OppPointsPG', 'DiffPointsPG', 'vsEast', 'vsAtlantic', 'vsCentral', 'vsSoutheast', 'vsWest', 'vsNorthwest', 'vsPacific', 'vsSouthwest', 'Jan', 'Feb', 'Mar', 'Apr', 'May', 'Jun', 'Jul', 'Aug', 'Sep', 'Oct', 'Nov', 'Dec', 'PreAS', 'PostAS'])"
      ]
     },
     "execution_count": 56,
     "metadata": {},
     "output_type": "execute_result"
    }
   ],
   "source": [
    "#__SOLUTION__\n",
    "lakers.keys()"
   ]
  },
  {
   "cell_type": "markdown",
   "metadata": {},
   "source": [
    "You can see the values of a dictionary using the .values() method."
   ]
  },
  {
   "cell_type": "code",
   "execution_count": 57,
   "metadata": {},
   "outputs": [],
   "source": [
    "# List all the values of the lakers dictionary\n",
    "# your code here"
   ]
  },
  {
   "cell_type": "code",
   "execution_count": 58,
   "metadata": {},
   "outputs": [
    {
     "data": {
      "text/plain": [
       "dict_values(['00', '22019', 1610612747, 'Los Angeles', 'Lakers', 'West', '36-10', 1, ' - w', 'Pacific', '10-3 ', 1, 52, 19, 0.732, 0, '52-19', '25-10', '27-9 ', '4-6  ', '7-3  ', '6-4  ', '2-0  ', '7-3  ', '25-11', 6, 'W 6', 14, 'W 14', 10, 4, -1, 'L 1', -2, 'L 2', -1, 'L 1', 0.0, 0.0, 1, 1, 1, 0, 0, '39-8 ', '11-10', '2-1  ', '43-0 ', '7-16 ', '2-3  ', '48-14', '36-19', '22-14', '42-4 ', '38-7 ', '33-5 ', 113.4, 107.6, 5.8, '16-9', '5-5', '4-3', '7-1', '36-10', '12-3', '10-3', '14-4', '10-4', '9-2', '4-1', None, None, None, '1-0', '2-5', None, '3-1', '14-1', '9-5', '41-12', '11-7'])"
      ]
     },
     "execution_count": 58,
     "metadata": {},
     "output_type": "execute_result"
    }
   ],
   "source": [
    "#__SOLUTION__\n",
    "lakers.values()"
   ]
  },
  {
   "cell_type": "markdown",
   "metadata": {},
   "source": [
    "# Task 1"
   ]
  },
  {
   "cell_type": "code",
   "execution_count": 59,
   "metadata": {},
   "outputs": [],
   "source": [
    "# Assign the Laker's Division Rank to the variable division rank\n",
    "\n",
    "division_rank = None"
   ]
  },
  {
   "cell_type": "code",
   "execution_count": 62,
   "metadata": {},
   "outputs": [
    {
     "data": {
      "text/plain": [
       "1"
      ]
     },
     "execution_count": 62,
     "metadata": {},
     "output_type": "execute_result"
    }
   ],
   "source": [
    "#__SOLUTION__\n",
    "# Assign the Laker's Division Rank to the variable division rank\n",
    "\n",
    "division_rank = lakers['DivisionRank']\n",
    "division_rank"
   ]
  },
  {
   "cell_type": "markdown",
   "metadata": {},
   "source": [
    "# Task 2"
   ]
  },
  {
   "cell_type": "markdown",
   "metadata": {},
   "source": [
    "Now using the `team_dict` list, loop through each team dictionary and print out the team name and the division rank for the 2019-20.\n",
    "The output of the first round of the loop should look like:  \n",
    "\n",
    "Lakers 1"
   ]
  },
  {
   "cell_type": "code",
   "execution_count": 63,
   "metadata": {},
   "outputs": [],
   "source": [
    "# Your code here"
   ]
  },
  {
   "cell_type": "code",
   "execution_count": 64,
   "metadata": {},
   "outputs": [
    {
     "name": "stdout",
     "output_type": "stream",
     "text": [
      "Lakers 1\n",
      "Bucks 1\n",
      "Clippers 2\n",
      "Raptors 1\n",
      "Celtics 2\n",
      "Nuggets 1\n",
      "Rockets 1\n",
      "Pacers 2\n",
      "Heat 1\n",
      "Thunder 2\n",
      "76ers 3\n",
      "Jazz 3\n",
      "Mavericks 2\n",
      "Nets 4\n",
      "Trail Blazers 4\n",
      "Magic 2\n",
      "Grizzlies 3\n",
      "Wizards 3\n",
      "Suns 3\n",
      "Hornets 4\n",
      "Spurs 4\n",
      "Bulls 3\n",
      "Kings 4\n",
      "Knicks 5\n",
      "Pistons 4\n",
      "Pelicans 5\n",
      "Timberwolves 5\n",
      "Hawks 5\n",
      "Cavaliers 5\n",
      "Warriors 5\n"
     ]
    }
   ],
   "source": [
    "#__SOLUTION__\n",
    "for team in team_dicts:\n",
    "    print(team['TeamName'], team['DivisionRank'])"
   ]
  },
  {
   "cell_type": "markdown",
   "metadata": {},
   "source": [
    "# Task 3"
   ]
  },
  {
   "cell_type": "markdown",
   "metadata": {},
   "source": [
    "Next, let's create a set of dictionaries nested within a dictionary.  \n",
    "\n",
    "Each dictionary will represent a division, and each value will be another dictionary.  \n",
    "\n",
    "The second level dictionaries will have team names as keys, and division rank as values.\n",
    "\n",
    "So, one key:value pair of the outer dictionary would look like so:\n",
    "\n",
    "`'Pacific': {'Lakers': 1, 'Clippers': 2, 'Suns': 3, 'Kings': 4, 'Warriors': 5}`\n",
    "\n"
   ]
  },
  {
   "cell_type": "code",
   "execution_count": 65,
   "metadata": {},
   "outputs": [],
   "source": [
    "# First step, get a list of all the division names\n",
    "division_names = [team['Division'] for team in team_dicts]"
   ]
  },
  {
   "cell_type": "code",
   "execution_count": 66,
   "metadata": {},
   "outputs": [],
   "source": [
    "# What you see above is a list comprehension.  It does the same thing as below.\n",
    "division_names = []\n",
    "\n",
    "for team in team_dicts:\n",
    "    division_names.append(team['Division'])"
   ]
  },
  {
   "cell_type": "markdown",
   "metadata": {},
   "source": [
    "Once you get the hang of them, list comprehensions are amazing.  They are visually concise and faster than explicit for loops."
   ]
  },
  {
   "cell_type": "code",
   "execution_count": 67,
   "metadata": {},
   "outputs": [
    {
     "data": {
      "text/plain": [
       "['Central', 'Southwest', 'Southeast', 'Atlantic', 'Northwest', 'Pacific']"
      ]
     },
     "execution_count": 67,
     "metadata": {},
     "output_type": "execute_result"
    }
   ],
   "source": [
    "# We can use set to get the unique values\n",
    "division_names = list(set(division_names))\n",
    "division_names"
   ]
  },
  {
   "cell_type": "markdown",
   "metadata": {},
   "source": [
    "Now your turn.  Populate a dictionary called division_dictionary that has the division ranks of each team in each of the 6 divisions.\n",
    "\n",
    "Hint: you may need two for loops, one nested within the other.  A dictionary for each division should be created between the two for loops."
   ]
  },
  {
   "cell_type": "code",
   "execution_count": 69,
   "metadata": {},
   "outputs": [],
   "source": [
    "# Your code here\n",
    "division_dictionary = None\n"
   ]
  },
  {
   "cell_type": "code",
   "execution_count": 72,
   "metadata": {
    "collapsed": true,
    "jupyter": {
     "outputs_hidden": true
    }
   },
   "outputs": [
    {
     "data": {
      "text/plain": [
       "{'Central': {'Bucks': 1,\n",
       "  'Pacers': 2,\n",
       "  'Bulls': 3,\n",
       "  'Pistons': 4,\n",
       "  'Cavaliers': 5},\n",
       " 'Southwest': {'Rockets': 1,\n",
       "  'Mavericks': 2,\n",
       "  'Grizzlies': 3,\n",
       "  'Spurs': 4,\n",
       "  'Pelicans': 5},\n",
       " 'Southeast': {'Heat': 1, 'Magic': 2, 'Wizards': 3, 'Hornets': 4, 'Hawks': 5},\n",
       " 'Atlantic': {'Raptors': 1, 'Celtics': 2, '76ers': 3, 'Nets': 4, 'Knicks': 5},\n",
       " 'Northwest': {'Nuggets': 1,\n",
       "  'Thunder': 2,\n",
       "  'Jazz': 3,\n",
       "  'Trail Blazers': 4,\n",
       "  'Timberwolves': 5},\n",
       " 'Pacific': {'Lakers': 1, 'Clippers': 2, 'Suns': 3, 'Kings': 4, 'Warriors': 5}}"
      ]
     },
     "execution_count": 72,
     "metadata": {},
     "output_type": "execute_result"
    }
   ],
   "source": [
    "#__SOLUTION__\n",
    "\n",
    "division_dictionary = {}\n",
    "\n",
    "for division in division_names:\n",
    "    division_dictionary[division] = {}\n",
    "    for team in team_dicts:\n",
    "        if division == team['Division']:\n",
    "            division_dictionary[division][team['TeamName']] =  team['DivisionRank']\n",
    "division_dictionary"
   ]
  },
  {
   "cell_type": "markdown",
   "metadata": {},
   "source": [
    "# Bonus"
   ]
  },
  {
   "cell_type": "markdown",
   "metadata": {},
   "source": [
    "The original API call is sort of messy.  With the .get_dict() method associated with the nba_api package, we are left with a nested series of lists and dictionary. To get the data, we need to parse it with a series of keys and list indices. \n",
    "\n",
    "The bonus task asks you to recreate the exercise from task 3 above, starting with the new_response object below.  I.E., create a division dictionary for the 2018-19 season.\n",
    "\n",
    "If you are feeling adventurous, code a function that takes the response as an argument, and returns the dicitonary.\n",
    "\n",
    "The first key: value pair should be:\n",
    "\n",
    "`'Central': {'Bucks': 1,\n",
    "  'Pacers': 2,\n",
    "  'Pistons': 3,\n",
    "  'Bulls': 4,\n",
    "  'Cavaliers': 5},`"
   ]
  },
  {
   "cell_type": "code",
   "execution_count": 73,
   "metadata": {},
   "outputs": [],
   "source": [
    "new_response= leaguestandings.LeagueStandings(season='2018-19').get_dict()"
   ]
  },
  {
   "cell_type": "code",
   "execution_count": 74,
   "metadata": {},
   "outputs": [],
   "source": [
    "# Your code here"
   ]
  },
  {
   "cell_type": "code",
   "execution_count": 47,
   "metadata": {},
   "outputs": [],
   "source": [
    "#__SOLUTION__\n",
    "def get_division_ranks(response):\n",
    "    \n",
    "    '''Given a response to the nba_api LeagueStandings request, return a dictionary of division rankings.\n",
    "    \n",
    "    parameters: \n",
    "        response: a list of dictionaries containing league standing data\n",
    "    return:\n",
    "        division_dictionary: a dictionary containing the league standings of teams in each division.\n",
    "    '''\n",
    "    \n",
    "    # Isolate headers\n",
    "    new_headers = response['resultSets'][0]['headers']\n",
    "    \n",
    "    # Isolate data\n",
    "    team_list = response['resultSets'][0]['rowSet']\n",
    "\n",
    "    # Create a new dictionary with headers attached to the data of each team\n",
    "    team_dicts = [dict(zip(new_headers, team)) for team in team_list]\n",
    "    \n",
    "    division_names = [team['Division'] for team in team_dicts]\n",
    "\n",
    "    division_dictionary = {}\n",
    "\n",
    "    for division in division_names:\n",
    "        division_dictionary[division] = {}\n",
    "        for team in team_dicts:\n",
    "            if division == team['Division']:\n",
    "                division_dictionary[division][team['TeamName']] =  team['DivisionRank']\n",
    "                \n",
    "    return division_dictionary\n",
    "\n",
    "get_division_ranks(new_response)"
   ]
  },
  {
   "cell_type": "code",
   "execution_count": null,
   "metadata": {},
   "outputs": [],
   "source": []
  }
 ],
 "metadata": {
  "kernelspec": {
   "display_name": "Python 3",
   "language": "python",
   "name": "python3"
  },
  "language_info": {
   "codemirror_mode": {
    "name": "ipython",
    "version": 3
   },
   "file_extension": ".py",
   "mimetype": "text/x-python",
   "name": "python",
   "nbconvert_exporter": "python",
   "pygments_lexer": "ipython3",
   "version": "3.7.3"
  }
 },
 "nbformat": 4,
 "nbformat_minor": 4
}
